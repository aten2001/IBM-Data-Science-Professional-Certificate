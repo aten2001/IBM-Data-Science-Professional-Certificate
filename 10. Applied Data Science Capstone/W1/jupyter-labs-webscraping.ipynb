{
 "cells": [
  {
   "cell_type": "markdown",
   "metadata": {},
   "source": [
    "<p style=\"text-align:center\">\n",
    "    <a href=\"https://skills.network/?utm_medium=Exinfluencer&utm_source=Exinfluencer&utm_content=000026UJ&utm_term=10006555&utm_id=NA-SkillsNetwork-Channel-SkillsNetworkCoursesIBMDS0321ENSkillsNetwork865-2023-01-01\">\n",
    "    <img src=\"https://cf-courses-data.s3.us.cloud-object-storage.appdomain.cloud/assets/logos/SN_web_lightmode.png\" width=\"200\" alt=\"Skills Network Logo\"  />\n",
    "    </a>\n",
    "</p>\n"
   ]
  },
  {
   "cell_type": "markdown",
   "metadata": {},
   "source": [
    "# **Space X  Falcon 9 First Stage Landing Prediction**\n"
   ]
  },
  {
   "cell_type": "markdown",
   "metadata": {},
   "source": [
    "## Web scraping Falcon 9 and Falcon Heavy Launches Records from Wikipedia\n"
   ]
  },
  {
   "cell_type": "markdown",
   "metadata": {},
   "source": [
    "Estimated time needed: **40** minutes\n"
   ]
  },
  {
   "cell_type": "markdown",
   "metadata": {},
   "source": [
    "In this lab, you will be performing web scraping to collect Falcon 9 historical launch records from a Wikipedia page titled `List of Falcon 9 and Falcon Heavy launches`\n",
    "\n",
    "https://en.wikipedia.org/wiki/List_of_Falcon_9_and_Falcon_Heavy_launches\n",
    "\n",
    "在这个实验中，你将进行网络爬取，从一个名为“Falcon 9和Falcon Heavy发射列表”的维基百科页面收集Falcon 9的历史发射记录。\n",
    "\n",
    "链接为：https://en.wikipedia.org/wiki/List_of_Falcon_9_and_Falcon_Heavy_launches\n",
    "\n",
    "详细解释：\n",
    "\n",
    "网络爬取是一个通过自动或半自动方式从互联网上获取信息的过程。在这个实验中，你将使用Python进行网络爬取，从维基百科的页面上获取Falcon 9火箭的发射历史数据。\n",
    "\n",
    "Falcon 9是由SpaceX公司开发的一种重型可回收火箭，是目前全球最活跃的商业运载火箭。通过收集其历史发射记录，我们可以分析其发射成功率、载荷能力、回收情况等多方面的信息，以便更好地了解其性能和商业价值。\n",
    "\n",
    "在这个实验中，你将主要使用到Python的requests库来发送HTTP请求，BeautifulSoup库来解析HTML页面，以及pandas库来处理和存储数据。"
   ]
  },
  {
   "cell_type": "markdown",
   "metadata": {},
   "source": [
    "![](https://cf-courses-data.s3.us.cloud-object-storage.appdomain.cloud/IBM-DS0321EN-SkillsNetwork/labs/module_1_L2/images/Falcon9_rocket_family.svg)\n"
   ]
  },
  {
   "cell_type": "markdown",
   "metadata": {},
   "source": [
    "Falcon 9 first stage will land successfully\n"
   ]
  },
  {
   "cell_type": "markdown",
   "metadata": {},
   "source": [
    "![](https://cf-courses-data.s3.us.cloud-object-storage.appdomain.cloud/IBMDeveloperSkillsNetwork-DS0701EN-SkillsNetwork/api/Images/landing_1.gif)\n"
   ]
  },
  {
   "cell_type": "markdown",
   "metadata": {},
   "source": [
    "Several examples of an unsuccessful landing are shown here:\n"
   ]
  },
  {
   "cell_type": "markdown",
   "metadata": {},
   "source": [
    "![](https://cf-courses-data.s3.us.cloud-object-storage.appdomain.cloud/IBMDeveloperSkillsNetwork-DS0701EN-SkillsNetwork/api/Images/crash.gif)\n"
   ]
  },
  {
   "cell_type": "markdown",
   "metadata": {},
   "source": [
    "More specifically, the launch records are stored in a HTML table shown below:\n"
   ]
  },
  {
   "cell_type": "markdown",
   "metadata": {},
   "source": [
    "![](https://cf-courses-data.s3.us.cloud-object-storage.appdomain.cloud/IBM-DS0321EN-SkillsNetwork/labs/module_1_L2/images/falcon9-launches-wiki.png)\n"
   ]
  },
  {
   "cell_type": "markdown",
   "metadata": {},
   "source": [
    "  ## Objectives\n",
    "Web scrap Falcon 9 launch records with `BeautifulSoup`: \n",
    "- Extract a Falcon 9 launch records HTML table from Wikipedia\n",
    "- Parse the table and convert it into a Pandas data frame\n"
   ]
  },
  {
   "cell_type": "markdown",
   "metadata": {},
   "source": [
    "First let's import required packages for this lab\n"
   ]
  },
  {
   "cell_type": "code",
   "execution_count": 1,
   "metadata": {},
   "outputs": [
    {
     "name": "stdout",
     "output_type": "stream",
     "text": [
      "Requirement already satisfied: beautifulsoup4 in /home/jupyterlab/conda/envs/python/lib/python3.7/site-packages (4.11.1)\n",
      "Requirement already satisfied: soupsieve>1.2 in /home/jupyterlab/conda/envs/python/lib/python3.7/site-packages (from beautifulsoup4) (2.3.2.post1)\n",
      "Requirement already satisfied: requests in /home/jupyterlab/conda/envs/python/lib/python3.7/site-packages (2.29.0)\n",
      "Requirement already satisfied: charset-normalizer<4,>=2 in /home/jupyterlab/conda/envs/python/lib/python3.7/site-packages (from requests) (3.1.0)\n",
      "Requirement already satisfied: idna<4,>=2.5 in /home/jupyterlab/conda/envs/python/lib/python3.7/site-packages (from requests) (3.4)\n",
      "Requirement already satisfied: urllib3<1.27,>=1.21.1 in /home/jupyterlab/conda/envs/python/lib/python3.7/site-packages (from requests) (1.26.15)\n",
      "Requirement already satisfied: certifi>=2017.4.17 in /home/jupyterlab/conda/envs/python/lib/python3.7/site-packages (from requests) (2023.5.7)\n"
     ]
    }
   ],
   "source": [
    "!pip3 install beautifulsoup4\n",
    "!pip3 install requests"
   ]
  },
  {
   "cell_type": "code",
   "execution_count": 1,
   "metadata": {
    "tags": []
   },
   "outputs": [],
   "source": [
    "import sys\n",
    "\n",
    "import requests\n",
    "from bs4 import BeautifulSoup\n",
    "import re\n",
    "import unicodedata\n",
    "import pandas as pd"
   ]
  },
  {
   "cell_type": "markdown",
   "metadata": {},
   "source": [
    "and we will provide some helper functions for you to process web scraped HTML table\n"
   ]
  },
  {
   "cell_type": "markdown",
   "metadata": {},
   "source": [
    "#### 下面函数 `date_time` 接受一个 HTML 表格单元格的元素作为输入，并从中提取日期和时间信息。\n",
    "\n",
    "该函数的内部逻辑是这样的：\n",
    "\n",
    "1. `table_cells.strings`：这一步将从表格单元格中提取所有的文本内容。在 BeautifulSoup 中，`.strings` 属性可以获取到一个元素下的所有文本内容，包括其子孙元素的文本内容，返回一个生成器。\n",
    "\n",
    "2. `list(table_cells.strings)`：这一步将生成器转化为一个列表，列表中的每一项都是表格单元格中的一段文本。\n",
    "\n",
    "3. `[data_time.strip() for data_time in list(table_cells.strings)]`：这是一个列表推导式，用于遍历刚刚获取的文本列表，对每一段文本执行 `.strip()` 操作。`.strip()` 是 Python 中的一个字符串方法，用于移除字符串首尾的空白字符，包括空格、制表符、换行符等。\n",
    "\n",
    "4. `[data_time.strip() for data_time in list(table_cells.strings)][0:2]`：最后，这一步取出经过处理的列表中的前两项，即日期和时间信息。\n",
    "\n",
    "总的来说，这个函数的作用就是从 HTML 表格单元格中提取出日期和时间信息，并去除其首尾的空白字符。"
   ]
  },
  {
   "cell_type": "code",
   "execution_count": 5,
   "metadata": {
    "tags": []
   },
   "outputs": [],
   "source": [
    "def date_time(table_cells):\n",
    "    \"\"\"\n",
    "    This function returns the data and time from the HTML  table cell\n",
    "    Input: the  element of a table data cell extracts extra row\n",
    "    \"\"\"\n",
    "    return [data_time.strip() for data_time in list(table_cells.strings)][0:2]"
   ]
  },
  {
   "cell_type": "markdown",
   "metadata": {},
   "source": [
    "下面函数 `booster_version` 的目的是从 HTML 表格单元格中提取火箭（booster）的版本信息。\n",
    "\n",
    "函数的内部逻辑是这样的：\n",
    "\n",
    "1. `table_cells.strings`：这一步将从表格单元格中提取所有的文本内容。在 BeautifulSoup 中，`.strings` 属性可以获取到一个元素下的所有文本内容，包括其子孙元素的文本内容，返回一个生成器。\n",
    "\n",
    "2. `enumerate( table_cells.strings)`：`enumerate` 函数用于将一个可遍历的数据对象（如列表、元组或字符串）组合为一个索引序列，同时列出数据和数据下标，一般用在 for 循环当中。\n",
    "\n",
    "3. `[booster_version for i,booster_version in enumerate( table_cells.strings) if i%2==0]`：这是一个列表推导式，用于遍历刚刚获取的带有索引的文本列表，对每一段文本进行判断，如果其索引为偶数（即 `i%2==0`）就将其加入新的列表。\n",
    "\n",
    "4. `''.join([booster_version for i,booster_version in enumerate( table_cells.strings) if i%2==0][0:-1])`：最后，这一步将筛选后的文本列表合并为一个字符串。`[0:-1]` 用于取出列表中的第一项到倒数第二项（不包括最后一项），然后使用 `''`（空字符串）作为连接符将这些文本拼接起来。\n",
    "\n",
    "总的来说，这个函数的作用就是从 HTML 表格单元格中提取出火箭的版本信息，并将其组合成一个字符串。\n",
    "\n",
    "\"新的列表\"是指由列表推导式 `[booster_version for i,booster_version in enumerate(table_cells.strings) if i%2==0]` 生成的列表。\n",
    "\n",
    "这个列表推导式会遍历从 `table_cells.strings` 得到的带有索引的文本列表。如果文本的索引 `i` 是偶数（即 `i%2==0`），那么这个文本 `booster_version` 就会被添加到新的列表中。\n",
    "\n",
    "这是一个 Python 的列表推导式，它可以用一行代码生成一个列表。在这个例子中，列表推导式的条件是 `i%2==0`，意思是只有当索引 `i` 是偶数时，对应的文本 `booster_version` 才会被添加到新的列表中。\n",
    "\n",
    "总的来说，这个列表推导式会创建一个新的列表，其中只包含 `table_cells.strings` 中索引为偶数的文本元素。这个新的列表就是我们提到的 \"新的列表\"。"
   ]
  },
  {
   "cell_type": "code",
   "execution_count": 6,
   "metadata": {
    "tags": []
   },
   "outputs": [],
   "source": [
    "def booster_version(table_cells):\n",
    "    \"\"\"\n",
    "    This function returns the booster version from the HTML  table cell \n",
    "    Input: the  element of a table data cell extracts extra row\n",
    "    \"\"\"\n",
    "    out=''.join([booster_version for i,booster_version in enumerate( table_cells.strings) if i%2==0][0:-1])\n",
    "    return out "
   ]
  },
  {
   "cell_type": "markdown",
   "metadata": {},
   "source": [
    "下面函数 `landing_status(table_cells)` 的目的是从 HTML 表格单元格中获取着陆状态。\n",
    "\n",
    "函数的输入 `table_cells` 是一个 BeautifulSoup 对象，表示一个 HTML 表格单元格的内容。\n",
    "\n",
    "函数内部的列表推导式 `[i for i in table_cells.strings]` 会遍历 `table_cells.strings` 中的每一个字符串 `i`，并将它们全部收集到一个新的列表中。这个过程就是提取表格单元格中所有的字符串内容。\n",
    "\n",
    "然后，`[0]` 会获取这个新列表的第一个元素，也就是表格单元格中的第一条字符串，通常这就是我们需要的着陆状态。\n",
    "\n",
    "所以，这个函数的作用是从 HTML 表格单元格中提取并返回着陆状态。"
   ]
  },
  {
   "cell_type": "code",
   "execution_count": 7,
   "metadata": {
    "tags": []
   },
   "outputs": [],
   "source": [
    "def landing_status(table_cells):\n",
    "    \"\"\"\n",
    "    This function returns the landing status from the HTML table cell \n",
    "    Input: the  element of a table data cell extracts extra row\n",
    "    \"\"\"\n",
    "    out=[i for i in table_cells.strings][0]\n",
    "    return out"
   ]
  },
  {
   "cell_type": "markdown",
   "metadata": {},
   "source": [
    "下面 `get_mass(table_cells)` 函数的目的是从 HTML 表格单元格中获取负载质量。\n",
    "\n",
    "函数的输入 `table_cells` 是一个 BeautifulSoup 对象，表示一个 HTML 表格单元格的内容。\n",
    "\n",
    "首先，`unicodedata.normalize(\"NFKD\", table_cells.text).strip()` 这行代码的作用是对表格单元格中的文本进行规范化处理。规范化是将 Unicode 字符串转换为几乎相等的等效字符串，但具有更规范的形式的过程。`\"NFKD\"` 是规范化的一种形式，它将字符转换为等效的兼容分解。然后，`.strip()` 方法会移除字符串头尾的空白字符。\n",
    "\n",
    "然后，`mass.find(\"kg\")` 会找到 \"kg\" 在字符串 `mass` 中的位置。\n",
    "\n",
    "接着，`new_mass=mass[0:mass.find(\"kg\")+2]` 会截取从开始到 \"kg\" 后两个字符的字符串，这通常就是我们需要的负载质量。\n",
    "\n",
    "如果 `mass` 为空，那么 `new_mass` 就会被设为 0。\n",
    "\n",
    "所以，这个函数的作用是从 HTML 表格单元格中提取并返回负载的质量。\n",
    "\n",
    "在Python中，字符串是一个序列，我们可以通过索引访问和提取其各个部分。语法 `str[start: end]` 用于截取字符串的一部分，其中 `start` 是开始索引，`end` 是结束索引。\n",
    "\n",
    "`mass.find(\"kg\")` 会返回 \"kg\" 在字符串 `mass` 中首次出现的位置索引。假设我们有一个字符串 `mass = '4300 kg'`，那么 `mass.find(\"kg\")` 会返回 5，这是 \"kg\" 开始的位置。因此，`mass[0: mass.find(\"kg\")]` 将会截取从索引0开始到索引5的字符串，即 '4300 '。\n",
    "\n",
    "然而，我们希望保留 \"kg\"，因此我们需要在 `mass.find(\"kg\")` 的结果上加 2（因为 \"kg\" 有两个字符）。所以，`mass[0: mass.find(\"kg\") + 2]` 将会截取从索引0开始到索引7的字符串，即 '4300 kg'。\n",
    "\n",
    "在这个例子中，`new_mass = mass[0: mass.find(\"kg\") + 2]` 的结果将会是 '4300 kg'，这就是我们需要的负载质量。"
   ]
  },
  {
   "cell_type": "code",
   "execution_count": 2,
   "metadata": {
    "tags": []
   },
   "outputs": [],
   "source": [
    "def get_mass(table_cells):\n",
    "    mass=unicodedata.normalize(\"NFKD\", table_cells.text).strip()\n",
    "    if mass:\n",
    "        mass.find(\"kg\")\n",
    "        new_mass=mass[0:mass.find(\"kg\")+2]\n",
    "    else:\n",
    "        new_mass=0\n",
    "    return new_mass"
   ]
  },
  {
   "cell_type": "markdown",
   "metadata": {},
   "source": [
    "下面函数 `extract_column_from_header` 用于从HTML表格的表头行中提取列名。\n",
    "\n",
    "首先，我们会去除包含在行元素中的 `<br>`，`<a>` 和 `<sup>` 标签，这些标签通常会带来我们不需要的额外信息。`row.br.extract()`、`row.a.extract()` 和 `row.sup.extract()` 这些操作会移除对应的HTML标签及其内容。\n",
    "\n",
    "然后，`' '.join(row.contents)` 将会把行元素中的所有内容连接成一个字符串，各部分之间以空格隔开。\n",
    "\n",
    "接下来的 `if` 语句是用来过滤掉只包含数字或者为空的列名。如果 `colunm_name.strip().isdigit()` 为 `True`，说明列名只包含数字，这样的列名我们不需要。如果 `colunm_name.strip()` 为空字符串，也说明这不是一个有效的列名。\n",
    "\n",
    "最后，如果列名既不全是数字也不为空，我们就返回经过 `strip()` 函数处理过的列名。`strip()` 函数会移除字符串前后的空白字符，包括空格、制表符、换行符等。这样我们就得到了一个干净整洁的列名。"
   ]
  },
  {
   "cell_type": "code",
   "execution_count": 3,
   "metadata": {
    "tags": []
   },
   "outputs": [],
   "source": [
    "def extract_column_from_header(row):\n",
    "    \"\"\"\n",
    "    This function returns the landing status from the HTML table cell \n",
    "    Input: the  element of a table data cell extracts extra row\n",
    "    \"\"\"\n",
    "    if (row.br):\n",
    "        row.br.extract()\n",
    "    if row.a:\n",
    "        row.a.extract()\n",
    "    if row.sup:\n",
    "        row.sup.extract()\n",
    "        \n",
    "    colunm_name = ' '.join(row.contents)\n",
    "    \n",
    "    # Filter the digit and empty names\n",
    "    if not(colunm_name.strip().isdigit()):\n",
    "        colunm_name = colunm_name.strip()\n",
    "        return colunm_name  "
   ]
  },
  {
   "cell_type": "markdown",
   "metadata": {},
   "source": [
    "To keep the lab tasks consistent, you will be asked to scrape the data from a snapshot of the  `List of Falcon 9 and Falcon Heavy launches` Wikipage updated on\n",
    "`9th June 2021`\n",
    "\n",
    "为了保持实验任务的一致性，你将被要求从2021年6月9日更新的 \"Falcon 9和Falcon Heavy发射列表\" 的Wikipedia页面的快照中爬取数据。\n",
    "\n",
    "这句话的意思是，你需要爬取的网页数据并非是实时的最新数据，而是2021年6月9日时的网页数据的一个快照。这是为了确保所有进行此实验的人爬取到的数据是一致的，避免因网页内容的实时变动导致的数据不一致问题。\n",
    "\n",
    "网页数据的快照，也被称为网页存档或网页备份，是某一特定时间点网页内容的完整复制版本。这就像是在某个时间点对网页进行拍照，记录下了那一刻网页的所有信息。\n",
    "\n",
    "网页快照通常用于以下情况：\n",
    "\n",
    "1. **网页内容的历史记录**：网页的内容可能会随着时间的推移而变化，有时原来的信息可能会被删除或修改。通过创建网页的快照，可以保存网页在特定时间点的状态，以便日后查阅。\n",
    "\n",
    "2. **数据一致性**：在进行数据分析或机器学习项目时，可能需要确保所有的参与者或学习者获取到的数据是一致的。在这种情况下，可以使用某一时间点的网页快照，使得大家访问到的都是同一份数据，防止由于网页内容的实时更新导致数据不一致。\n",
    "\n",
    "3. **网页内容的备份**：如果某个网页在未来可能无法访问，但你又希望保存其内容，那么可以创建该网页的快照并保存下来。\n",
    "\n",
    "在你的情况下，使用网页的快照可以确保你在进行实验时使用的数据是一致的，不会因为Wikipedia页面的实时更新而受到影响。"
   ]
  },
  {
   "cell_type": "code",
   "execution_count": 4,
   "metadata": {
    "tags": []
   },
   "outputs": [],
   "source": [
    "static_url = \"https://en.wikipedia.org/w/index.php?title=List_of_Falcon_9_and_Falcon_Heavy_launches&oldid=1027686922\""
   ]
  },
  {
   "cell_type": "markdown",
   "metadata": {},
   "source": [
    "Next, request the HTML page from the above URL and get a `response` object\n"
   ]
  },
  {
   "cell_type": "markdown",
   "metadata": {},
   "source": [
    "### TASK 1: Request the Falcon9 Launch Wiki page from its URL\n"
   ]
  },
  {
   "cell_type": "markdown",
   "metadata": {},
   "source": [
    "First, let's perform an HTTP GET method to request the Falcon9 Launch HTML page, as an HTTP response.\n"
   ]
  },
  {
   "cell_type": "code",
   "execution_count": 5,
   "metadata": {
    "tags": []
   },
   "outputs": [
    {
     "data": {
      "text/plain": [
       "200"
      ]
     },
     "execution_count": 5,
     "metadata": {},
     "output_type": "execute_result"
    }
   ],
   "source": [
    "static_url = \"https://en.wikipedia.org/w/index.php?title=List_of_Falcon_9_and_Falcon_Heavy_launches&oldid=1027686922\"\n",
    "# use requests.get() method with the provided static_url\n",
    "# assign the response to a object\n",
    "response = requests.get(static_url)\n",
    "response.status_code"
   ]
  },
  {
   "cell_type": "markdown",
   "metadata": {},
   "source": [
    "Create a `BeautifulSoup` object from the HTML `response`\n"
   ]
  },
  {
   "cell_type": "code",
   "execution_count": 6,
   "metadata": {
    "tags": []
   },
   "outputs": [],
   "source": [
    "# Use BeautifulSoup() to create a BeautifulSoup object from a response text content\n",
    "from bs4 import BeautifulSoup"
   ]
  },
  {
   "cell_type": "markdown",
   "metadata": {},
   "source": [
    "`BeautifulSoup` 是一个用于从HTML和XML文件中提取数据的Python库。它为我们提供了一种方便的方式来解析HTML和XML文档，并从中提取所需的信息。\n",
    "\n",
    "下面是对`soup = BeautifulSoup(response.content, 'html.parser')`这一行代码的详细解释：\n",
    "\n",
    "1. **`response.content`**:\n",
    "    - 这通常来自`requests`库的响应对象，其中`.content`返回服务器响应的内容，即网页的HTML源码。这里假设你已经使用了`requests`库发送了一个HTTP请求并得到了一个响应。\n",
    "  \n",
    "2. **`'html.parser'`**:\n",
    "    - 这是你想要使用的解析器的名称。`BeautifulSoup`支持多种解析器，其中`html.parser`是Python的标准库中内置的解析器。它足够适合大多数任务，但在某些情况下，你可能想要使用其他的解析器，例如`lxml`或`html5lib`。\n",
    "  \n",
    "3. **`BeautifulSoup`**:\n",
    "    - 这是`bs4`库中的主要类，它允许你创建一个BeautifulSoup对象。当你创建这个对象时，它将开始解析你提供的HTML或XML内容。\n",
    "  \n",
    "4. **`soup`**:\n",
    "    - 这是你创建的BeautifulSoup对象的变量名。一旦你有了这个对象，你可以使用它来查询、修改和/或提取HTML文档中的特定部分。\n",
    "\n",
    "以下是一个简单示例，展示如何使用`BeautifulSoup`和`requests`库来从一个网页中提取标题:\n",
    "\n",
    "```python\n",
    "import requests\n",
    "from bs4 import BeautifulSoup\n",
    "\n",
    "url = \"https://www.example.com\"\n",
    "response = requests.get(url)\n",
    "soup = BeautifulSoup(response.content, 'html.parser')\n",
    "\n",
    "title = soup.title.string\n",
    "print(title)\n",
    "```\n",
    "\n",
    "在上面的示例中，我们首先发送一个HTTP GET请求到`https://www.example"
   ]
  },
  {
   "cell_type": "code",
   "execution_count": 7,
   "metadata": {
    "tags": []
   },
   "outputs": [],
   "source": [
    "# 使用 BeautifulSoup 解析 HTML 响应\n",
    "soup = BeautifulSoup(response.content, 'html.parser')"
   ]
  },
  {
   "cell_type": "markdown",
   "metadata": {},
   "source": [
    "Print the page title to verify if the `BeautifulSoup` object was created properly \n"
   ]
  },
  {
   "cell_type": "code",
   "execution_count": 8,
   "metadata": {
    "tags": []
   },
   "outputs": [
    {
     "name": "stdout",
     "output_type": "stream",
     "text": [
      "List of Falcon 9 and Falcon Heavy launches - Wikipedia\n"
     ]
    }
   ],
   "source": [
    "# Use soup.title attribute\n",
    "print(soup.title.string)"
   ]
  },
  {
   "cell_type": "markdown",
   "metadata": {},
   "source": [
    "### TASK 2: Extract all column/variable names from the HTML table header\n"
   ]
  },
  {
   "cell_type": "markdown",
   "metadata": {},
   "source": [
    "Next, we want to collect all relevant column names from the HTML table headerNext, we want to collect all relevant column names from the HTML table header\n"
   ]
  },
  {
   "cell_type": "markdown",
   "metadata": {},
   "source": [
    "Let's try to find all tables on the wiki page first. If you need to refresh your memory about `BeautifulSoup`, please check the external reference link towards the end of this lab\n"
   ]
  },
  {
   "cell_type": "markdown",
   "metadata": {
    "tags": []
   },
   "source": [
    "接下来，我们想从HTML表格标题中收集所有相关的列名。首先，让我们尝试找到wiki页面上的所有表格。如果你需要回顾一下BeautifulSoup的知识，请查看本实验室末尾的外部参考链接。\n",
    "\n",
    "在这个步骤中，我们会使用BeautifulSoup库来解析HTML页面，找出页面上所有的表格。每个HTML表格都是由一个`<table>`标签开始的，然后包含多个`<tr>`（表格行）标签，每个`<tr>`标签又包含多个`<th>`或`<td>`标签，分别表示表头和表格数据。所以，我们可以通过在BeautifulSoup对象上调用`find_all('table')`方法，来找出页面上所有的表格。然后我们可以进一步处理每个表格，提取出我们需要的数据。"
   ]
  },
  {
   "cell_type": "code",
   "execution_count": 10,
   "metadata": {
    "tags": []
   },
   "outputs": [],
   "source": [
    "# Use the find_all function in the BeautifulSoup object, with element type `table`\n",
    "# Assign the result to a list called `html_tables`\n",
    "html_tables = soup.find_all('table')"
   ]
  },
  {
   "cell_type": "markdown",
   "metadata": {},
   "source": [
    "Starting from the third table is our target table contains the actual launch records.\n"
   ]
  },
  {
   "cell_type": "markdown",
   "metadata": {},
   "source": [
    "在下面代码中，`first_launch_table` 被赋值为 `html_tables` 列表的第三个元素。在 Python 中，列表的索引是从 0 开始的，所以 `html_tables[2]` 实际上是指向列表中的第三个元素。\n",
    "这意味着我们正在获取网页上的第三个 HTML 表格，并将其存储在 `first_launch_table` 变量中。这个表格可能包含一些特定的数据，例如火箭的首次发射数据。具体内容会根据你正在处理的网页的实际内容而变化。"
   ]
  },
  {
   "cell_type": "code",
   "execution_count": 11,
   "metadata": {
    "tags": []
   },
   "outputs": [
    {
     "name": "stdout",
     "output_type": "stream",
     "text": [
      "<table class=\"wikitable plainrowheaders collapsible\" style=\"width: 100%;\">\n",
      "<tbody><tr>\n",
      "<th scope=\"col\">Flight No.\n",
      "</th>\n",
      "<th scope=\"col\">Date and<br/>time (<a href=\"/wiki/Coordinated_Universal_Time\" title=\"Coordinated Universal Time\">UTC</a>)\n",
      "</th>\n",
      "<th scope=\"col\"><a href=\"/wiki/List_of_Falcon_9_first-stage_boosters\" title=\"List of Falcon 9 first-stage boosters\">Version,<br/>Booster</a> <sup class=\"reference\" id=\"cite_ref-booster_11-0\"><a href=\"#cite_note-booster-11\">[b]</a></sup>\n",
      "</th>\n",
      "<th scope=\"col\">Launch site\n",
      "</th>\n",
      "<th scope=\"col\">Payload<sup class=\"reference\" id=\"cite_ref-Dragon_12-0\"><a href=\"#cite_note-Dragon-12\">[c]</a></sup>\n",
      "</th>\n",
      "<th scope=\"col\">Payload mass\n",
      "</th>\n",
      "<th scope=\"col\">Orbit\n",
      "</th>\n",
      "<th scope=\"col\">Customer\n",
      "</th>\n",
      "<th scope=\"col\">Launch<br/>outcome\n",
      "</th>\n",
      "<th scope=\"col\"><a href=\"/wiki/Falcon_9_first-stage_landing_tests\" title=\"Falcon 9 first-stage landing tests\">Booster<br/>landing</a>\n",
      "</th></tr>\n",
      "<tr>\n",
      "<th rowspan=\"2\" scope=\"row\" style=\"text-align:center;\">1\n",
      "</th>\n",
      "<td>4 June 2010,<br/>18:45\n",
      "</td>\n",
      "<td><a href=\"/wiki/Falcon_9_v1.0\" title=\"Falcon 9 v1.0\">F9 v1.0</a><sup class=\"reference\" id=\"cite_ref-MuskMay2012_13-0\"><a href=\"#cite_note-MuskMay2012-13\">[7]</a></sup><br/>B0003.1<sup class=\"reference\" id=\"cite_ref-block_numbers_14-0\"><a href=\"#cite_note-block_numbers-14\">[8]</a></sup>\n",
      "</td>\n",
      "<td><a href=\"/wiki/Cape_Canaveral_Space_Force_Station\" title=\"Cape Canaveral Space Force Station\">CCAFS</a>,<br/><a href=\"/wiki/Cape_Canaveral_Space_Launch_Complex_40\" title=\"Cape Canaveral Space Launch Complex 40\">SLC-40</a>\n",
      "</td>\n",
      "<td><a href=\"/wiki/Dragon_Spacecraft_Qualification_Unit\" title=\"Dragon Spacecraft Qualification Unit\">Dragon Spacecraft Qualification Unit</a>\n",
      "</td>\n",
      "<td>\n",
      "</td>\n",
      "<td><a href=\"/wiki/Low_Earth_orbit\" title=\"Low Earth orbit\">LEO</a>\n",
      "</td>\n",
      "<td><a href=\"/wiki/SpaceX\" title=\"SpaceX\">SpaceX</a>\n",
      "</td>\n",
      "<td class=\"table-success\" style=\"background: #9EFF9E; vertical-align: middle; text-align: center;\">Success\n",
      "</td>\n",
      "<td class=\"table-failure\" style=\"background: #FFC7C7; vertical-align: middle; text-align: center;\">Failure<sup class=\"reference\" id=\"cite_ref-ns20110930_15-0\"><a href=\"#cite_note-ns20110930-15\">[9]</a></sup><sup class=\"reference\" id=\"cite_ref-16\"><a href=\"#cite_note-16\">[10]</a></sup><br/><small>(parachute)</small>\n",
      "</td></tr>\n",
      "<tr>\n",
      "<td colspan=\"9\">First flight of Falcon 9 v1.0.<sup class=\"reference\" id=\"cite_ref-sfn20100604_17-0\"><a href=\"#cite_note-sfn20100604-17\">[11]</a></sup> Used a boilerplate version of Dragon capsule which was not designed to separate from the second stage.<small>(<a href=\"#First_flight_of_Falcon_9\">more details below</a>)</small> Attempted to recover the first stage by parachuting it into the ocean, but it burned up on reentry, before the parachutes even deployed.<sup class=\"reference\" id=\"cite_ref-parachute_18-0\"><a href=\"#cite_note-parachute-18\">[12]</a></sup>\n",
      "</td></tr>\n",
      "<tr>\n",
      "<th rowspan=\"2\" scope=\"row\" style=\"text-align:center;\">2\n",
      "</th>\n",
      "<td>8 December 2010,<br/>15:43<sup class=\"reference\" id=\"cite_ref-spaceflightnow_Clark_Launch_Report_19-0\"><a href=\"#cite_note-spaceflightnow_Clark_Launch_Report-19\">[13]</a></sup>\n",
      "</td>\n",
      "<td><a href=\"/wiki/Falcon_9_v1.0\" title=\"Falcon 9 v1.0\">F9 v1.0</a><sup class=\"reference\" id=\"cite_ref-MuskMay2012_13-1\"><a href=\"#cite_note-MuskMay2012-13\">[7]</a></sup><br/>B0004.1<sup class=\"reference\" id=\"cite_ref-block_numbers_14-1\"><a href=\"#cite_note-block_numbers-14\">[8]</a></sup>\n",
      "</td>\n",
      "<td><a href=\"/wiki/Cape_Canaveral_Space_Force_Station\" title=\"Cape Canaveral Space Force Station\">CCAFS</a>,<br/><a href=\"/wiki/Cape_Canaveral_Space_Launch_Complex_40\" title=\"Cape Canaveral Space Launch Complex 40\">SLC-40</a>\n",
      "</td>\n",
      "<td><a href=\"/wiki/SpaceX_Dragon\" title=\"SpaceX Dragon\">Dragon</a> <a class=\"mw-redirect\" href=\"/wiki/COTS_Demo_Flight_1\" title=\"COTS Demo Flight 1\">demo flight C1</a><br/>(Dragon C101)\n",
      "</td>\n",
      "<td>\n",
      "</td>\n",
      "<td><a href=\"/wiki/Low_Earth_orbit\" title=\"Low Earth orbit\">LEO</a> (<a href=\"/wiki/International_Space_Station\" title=\"International Space Station\">ISS</a>)\n",
      "</td>\n",
      "<td><style data-mw-deduplicate=\"TemplateStyles:r1126788409\">.mw-parser-output .plainlist ol,.mw-parser-output .plainlist ul{line-height:inherit;list-style:none;margin:0;padding:0}.mw-parser-output .plainlist ol li,.mw-parser-output .plainlist ul li{margin-bottom:0}</style><div class=\"plainlist\">\n",
      "<ul><li><a href=\"/wiki/NASA\" title=\"NASA\">NASA</a> (<a href=\"/wiki/Commercial_Orbital_Transportation_Services\" title=\"Commercial Orbital Transportation Services\">COTS</a>)</li>\n",
      "<li><a href=\"/wiki/National_Reconnaissance_Office\" title=\"National Reconnaissance Office\">NRO</a></li></ul>\n",
      "</div>\n",
      "</td>\n",
      "<td class=\"table-success\" style=\"background: #9EFF9E; vertical-align: middle; text-align: center;\">Success<sup class=\"reference\" id=\"cite_ref-ns20110930_15-1\"><a href=\"#cite_note-ns20110930-15\">[9]</a></sup>\n",
      "</td>\n",
      "<td class=\"table-failure\" style=\"background: #FFC7C7; vertical-align: middle; text-align: center;\">Failure<sup class=\"reference\" id=\"cite_ref-ns20110930_15-2\"><a href=\"#cite_note-ns20110930-15\">[9]</a></sup><sup class=\"reference\" id=\"cite_ref-20\"><a href=\"#cite_note-20\">[14]</a></sup><br/><small>(parachute)</small>\n",
      "</td></tr>\n",
      "<tr>\n",
      "<td colspan=\"9\">Maiden flight of <a class=\"mw-redirect\" href=\"/wiki/Dragon_capsule\" title=\"Dragon capsule\">Dragon capsule</a>, consisting of over 3 hours of testing thruster maneuvering and reentry.<sup class=\"reference\" id=\"cite_ref-spaceflightnow_Clark_unleashing_Dragon_21-0\"><a href=\"#cite_note-spaceflightnow_Clark_unleashing_Dragon-21\">[15]</a></sup> Attempted to recover the first stage by parachuting it into the ocean, but it disintegrated upon reentry, before the parachutes were deployed.<sup class=\"reference\" id=\"cite_ref-parachute_18-1\"><a href=\"#cite_note-parachute-18\">[12]</a></sup> <small>(<a href=\"#COTS_demo_missions\">more details below</a>)</small> It also included two <a href=\"/wiki/CubeSat\" title=\"CubeSat\">CubeSats</a>,<sup class=\"reference\" id=\"cite_ref-NRO_Taps_Boeing_for_Next_Batch_of_CubeSats_22-0\"><a href=\"#cite_note-NRO_Taps_Boeing_for_Next_Batch_of_CubeSats-22\">[16]</a></sup> and a wheel of <a href=\"/wiki/Brou%C3%A8re\" title=\"Brouère\">Brouère</a> cheese.\n",
      "</td></tr>\n",
      "<tr>\n",
      "<th rowspan=\"2\" scope=\"row\" style=\"text-align:center;\">3\n",
      "</th>\n",
      "<td>22 May 2012,<br/>07:44<sup class=\"reference\" id=\"cite_ref-BBC_new_era_23-0\"><a href=\"#cite_note-BBC_new_era-23\">[17]</a></sup>\n",
      "</td>\n",
      "<td><a href=\"/wiki/Falcon_9_v1.0\" title=\"Falcon 9 v1.0\">F9 v1.0</a><sup class=\"reference\" id=\"cite_ref-MuskMay2012_13-2\"><a href=\"#cite_note-MuskMay2012-13\">[7]</a></sup><br/>B0005.1<sup class=\"reference\" id=\"cite_ref-block_numbers_14-2\"><a href=\"#cite_note-block_numbers-14\">[8]</a></sup>\n",
      "</td>\n",
      "<td><a href=\"/wiki/Cape_Canaveral_Space_Force_Station\" title=\"Cape Canaveral Space Force Station\">CCAFS</a>,<br/><a href=\"/wiki/Cape_Canaveral_Space_Launch_Complex_40\" title=\"Cape Canaveral Space Launch Complex 40\">SLC-40</a>\n",
      "</td>\n",
      "<td><a href=\"/wiki/SpaceX_Dragon\" title=\"SpaceX Dragon\">Dragon</a> <a class=\"mw-redirect\" href=\"/wiki/Dragon_C2%2B\" title=\"Dragon C2+\">demo flight C2+</a><sup class=\"reference\" id=\"cite_ref-C2_24-0\"><a href=\"#cite_note-C2-24\">[18]</a></sup><br/>(Dragon C102)\n",
      "</td>\n",
      "<td>525 kg (1,157 lb)<sup class=\"reference\" id=\"cite_ref-25\"><a href=\"#cite_note-25\">[19]</a></sup>\n",
      "</td>\n",
      "<td><a href=\"/wiki/Low_Earth_orbit\" title=\"Low Earth orbit\">LEO</a> (<a href=\"/wiki/International_Space_Station\" title=\"International Space Station\">ISS</a>)\n",
      "</td>\n",
      "<td><a href=\"/wiki/NASA\" title=\"NASA\">NASA</a> (<a href=\"/wiki/Commercial_Orbital_Transportation_Services\" title=\"Commercial Orbital Transportation Services\">COTS</a>)\n",
      "</td>\n",
      "<td class=\"table-success\" style=\"background: #9EFF9E; vertical-align: middle; text-align: center;\">Success<sup class=\"reference\" id=\"cite_ref-26\"><a href=\"#cite_note-26\">[20]</a></sup>\n",
      "</td>\n",
      "<td class=\"table-noAttempt\" style=\"background: #EEE; vertical-align: middle; white-space: nowrap; text-align: center;\">No attempt\n",
      "</td></tr>\n",
      "<tr>\n",
      "<td colspan=\"9\">Dragon spacecraft demonstrated a series of tests before it was allowed to approach the <a href=\"/wiki/International_Space_Station\" title=\"International Space Station\">International Space Station</a>. Two days later, it became the first commercial spacecraft to board the ISS.<sup class=\"reference\" id=\"cite_ref-BBC_new_era_23-1\"><a href=\"#cite_note-BBC_new_era-23\">[17]</a></sup> <small>(<a href=\"#COTS_demo_missions\">more details below</a>)</small>\n",
      "</td></tr>\n",
      "<tr>\n",
      "<th rowspan=\"3\" scope=\"row\" style=\"text-align:center;\">4\n",
      "</th>\n",
      "<td rowspan=\"2\">8 October 2012,<br/>00:35<sup class=\"reference\" id=\"cite_ref-SFN_LLog_27-0\"><a href=\"#cite_note-SFN_LLog-27\">[21]</a></sup>\n",
      "</td>\n",
      "<td rowspan=\"2\"><a href=\"/wiki/Falcon_9_v1.0\" title=\"Falcon 9 v1.0\">F9 v1.0</a><sup class=\"reference\" id=\"cite_ref-MuskMay2012_13-3\"><a href=\"#cite_note-MuskMay2012-13\">[7]</a></sup><br/>B0006.1<sup class=\"reference\" id=\"cite_ref-block_numbers_14-3\"><a href=\"#cite_note-block_numbers-14\">[8]</a></sup>\n",
      "</td>\n",
      "<td rowspan=\"2\"><a href=\"/wiki/Cape_Canaveral_Space_Force_Station\" title=\"Cape Canaveral Space Force Station\">CCAFS</a>,<br/><a href=\"/wiki/Cape_Canaveral_Space_Launch_Complex_40\" title=\"Cape Canaveral Space Launch Complex 40\">SLC-40</a>\n",
      "</td>\n",
      "<td><a href=\"/wiki/SpaceX_CRS-1\" title=\"SpaceX CRS-1\">SpaceX CRS-1</a><sup class=\"reference\" id=\"cite_ref-sxManifest20120925_28-0\"><a href=\"#cite_note-sxManifest20120925-28\">[22]</a></sup><br/>(Dragon C103)\n",
      "</td>\n",
      "<td>4,700 kg (10,400 lb)\n",
      "</td>\n",
      "<td><a href=\"/wiki/Low_Earth_orbit\" title=\"Low Earth orbit\">LEO</a> (<a href=\"/wiki/International_Space_Station\" title=\"International Space Station\">ISS</a>)\n",
      "</td>\n",
      "<td><a href=\"/wiki/NASA\" title=\"NASA\">NASA</a> (<a href=\"/wiki/Commercial_Resupply_Services\" title=\"Commercial Resupply Services\">CRS</a>)\n",
      "</td>\n",
      "<td class=\"table-success\" style=\"background: #9EFF9E; vertical-align: middle; text-align: center;\">Success\n",
      "</td>\n",
      "<td rowspan=\"2\" style=\"background:#ececec; text-align:center;\"><span class=\"nowrap\">No attempt</span>\n",
      "</td></tr>\n",
      "<tr>\n",
      "<td><a href=\"/wiki/Orbcomm_(satellite)\" title=\"Orbcomm (satellite)\">Orbcomm-OG2</a><sup class=\"reference\" id=\"cite_ref-Orbcomm_29-0\"><a href=\"#cite_note-Orbcomm-29\">[23]</a></sup>\n",
      "</td>\n",
      "<td>172 kg (379 lb)<sup class=\"reference\" id=\"cite_ref-gunter-og2_30-0\"><a href=\"#cite_note-gunter-og2-30\">[24]</a></sup>\n",
      "</td>\n",
      "<td><a href=\"/wiki/Low_Earth_orbit\" title=\"Low Earth orbit\">LEO</a>\n",
      "</td>\n",
      "<td><a href=\"/wiki/Orbcomm\" title=\"Orbcomm\">Orbcomm</a>\n",
      "</td>\n",
      "<td class=\"table-partial\" style=\"background: #FE9; vertical-align: middle; text-align: center;\">Partial failure<sup class=\"reference\" id=\"cite_ref-nyt-20121030_31-0\"><a href=\"#cite_note-nyt-20121030-31\">[25]</a></sup>\n",
      "</td></tr>\n",
      "<tr>\n",
      "<td colspan=\"9\">CRS-1 was successful, but the <a href=\"/wiki/Secondary_payload\" title=\"Secondary payload\">secondary payload</a> was inserted into an abnormally low orbit and subsequently lost. This was due to one of the nine <a href=\"/wiki/SpaceX_Merlin\" title=\"SpaceX Merlin\">Merlin engines</a> shutting down during the launch, and NASA declining a second reignition, as per <a href=\"/wiki/International_Space_Station\" title=\"International Space Station\">ISS</a> visiting vehicle safety rules, the primary payload owner is contractually allowed to decline a second reignition. NASA stated that this was because SpaceX could not guarantee a high enough likelihood of the second stage completing the second burn successfully which was required to avoid any risk of secondary payload's collision with the ISS.<sup class=\"reference\" id=\"cite_ref-OrbcommTotalLoss_32-0\"><a href=\"#cite_note-OrbcommTotalLoss-32\">[26]</a></sup><sup class=\"reference\" id=\"cite_ref-sn20121011_33-0\"><a href=\"#cite_note-sn20121011-33\">[27]</a></sup><sup class=\"reference\" id=\"cite_ref-34\"><a href=\"#cite_note-34\">[28]</a></sup>\n",
      "</td></tr>\n",
      "<tr>\n",
      "<th rowspan=\"2\" scope=\"row\" style=\"text-align:center;\">5\n",
      "</th>\n",
      "<td>1 March 2013,<br/>15:10\n",
      "</td>\n",
      "<td><a href=\"/wiki/Falcon_9_v1.0\" title=\"Falcon 9 v1.0\">F9 v1.0</a><sup class=\"reference\" id=\"cite_ref-MuskMay2012_13-4\"><a href=\"#cite_note-MuskMay2012-13\">[7]</a></sup><br/>B0007.1<sup class=\"reference\" id=\"cite_ref-block_numbers_14-4\"><a href=\"#cite_note-block_numbers-14\">[8]</a></sup>\n",
      "</td>\n",
      "<td><a href=\"/wiki/Cape_Canaveral_Space_Force_Station\" title=\"Cape Canaveral Space Force Station\">CCAFS</a>,<br/><a href=\"/wiki/Cape_Canaveral_Space_Launch_Complex_40\" title=\"Cape Canaveral Space Launch Complex 40\">SLC-40</a>\n",
      "</td>\n",
      "<td><a href=\"/wiki/SpaceX_CRS-2\" title=\"SpaceX CRS-2\">SpaceX CRS-2</a><sup class=\"reference\" id=\"cite_ref-sxManifest20120925_28-1\"><a href=\"#cite_note-sxManifest20120925-28\">[22]</a></sup><br/>(Dragon C104)\n",
      "</td>\n",
      "<td>4,877 kg (10,752 lb)\n",
      "</td>\n",
      "<td><a href=\"/wiki/Low_Earth_orbit\" title=\"Low Earth orbit\">LEO</a> (<a class=\"mw-redirect\" href=\"/wiki/ISS\" title=\"ISS\">ISS</a>)\n",
      "</td>\n",
      "<td><a href=\"/wiki/NASA\" title=\"NASA\">NASA</a> (<a href=\"/wiki/Commercial_Resupply_Services\" title=\"Commercial Resupply Services\">CRS</a>)\n",
      "</td>\n",
      "<td class=\"table-success\" style=\"background: #9EFF9E; vertical-align: middle; text-align: center;\">Success\n",
      "</td>\n",
      "<td class=\"table-noAttempt\" style=\"background: #EEE; vertical-align: middle; white-space: nowrap; text-align: center;\">No attempt\n",
      "</td></tr>\n",
      "<tr>\n",
      "<td colspan=\"9\">Last launch of the original Falcon 9 v1.0 <a href=\"/wiki/Launch_vehicle\" title=\"Launch vehicle\">launch vehicle</a>, first use of the unpressurized trunk section of Dragon.<sup class=\"reference\" id=\"cite_ref-sxf9_20110321_35-0\"><a href=\"#cite_note-sxf9_20110321-35\">[29]</a></sup>\n",
      "</td></tr>\n",
      "<tr>\n",
      "<th rowspan=\"2\" scope=\"row\" style=\"text-align:center;\">6\n",
      "</th>\n",
      "<td>29 September 2013,<br/>16:00<sup class=\"reference\" id=\"cite_ref-pa20130930_36-0\"><a href=\"#cite_note-pa20130930-36\">[30]</a></sup>\n",
      "</td>\n",
      "<td><a href=\"/wiki/Falcon_9_v1.1\" title=\"Falcon 9 v1.1\">F9 v1.1</a><sup class=\"reference\" id=\"cite_ref-MuskMay2012_13-5\"><a href=\"#cite_note-MuskMay2012-13\">[7]</a></sup><br/>B1003<sup class=\"reference\" id=\"cite_ref-block_numbers_14-5\"><a href=\"#cite_note-block_numbers-14\">[8]</a></sup>\n",
      "</td>\n",
      "<td><a class=\"mw-redirect\" href=\"/wiki/Vandenberg_Air_Force_Base\" title=\"Vandenberg Air Force Base\">VAFB</a>,<br/><a href=\"/wiki/Vandenberg_Space_Launch_Complex_4\" title=\"Vandenberg Space Launch Complex 4\">SLC-4E</a>\n",
      "</td>\n",
      "<td><a href=\"/wiki/CASSIOPE\" title=\"CASSIOPE\">CASSIOPE</a><sup class=\"reference\" id=\"cite_ref-sxManifest20120925_28-2\"><a href=\"#cite_note-sxManifest20120925-28\">[22]</a></sup><sup class=\"reference\" id=\"cite_ref-CASSIOPE_MDA_37-0\"><a href=\"#cite_note-CASSIOPE_MDA-37\">[31]</a></sup>\n",
      "</td>\n",
      "<td>500 kg (1,100 lb)\n",
      "</td>\n",
      "<td><a href=\"/wiki/Polar_orbit\" title=\"Polar orbit\">Polar orbit</a> <a href=\"/wiki/Low_Earth_orbit\" title=\"Low Earth orbit\">LEO</a>\n",
      "</td>\n",
      "<td><a href=\"/wiki/Maxar_Technologies\" title=\"Maxar Technologies\">MDA</a>\n",
      "</td>\n",
      "<td class=\"table-success\" style=\"background: #9EFF9E; vertical-align: middle; text-align: center;\">Success<sup class=\"reference\" id=\"cite_ref-pa20130930_36-1\"><a href=\"#cite_note-pa20130930-36\">[30]</a></sup>\n",
      "</td>\n",
      "<td class=\"table-no2\" style=\"background: #FFE3E3; color: black; vertical-align: middle; text-align: center;\">Uncontrolled<br/><small>(ocean)</small><sup class=\"reference\" id=\"cite_ref-ocean_landing_38-0\"><a href=\"#cite_note-ocean_landing-38\">[d]</a></sup>\n",
      "</td></tr>\n",
      "<tr>\n",
      "<td colspan=\"9\">First commercial mission with a private customer, first launch from Vandenberg, and demonstration flight of Falcon 9 v1.1 with an improved 13-tonne to LEO capacity.<sup class=\"reference\" id=\"cite_ref-sxf9_20110321_35-1\"><a href=\"#cite_note-sxf9_20110321-35\">[29]</a></sup> After separation from the second stage carrying Canadian commercial and scientific satellites, the first stage booster performed a controlled reentry,<sup class=\"reference\" id=\"cite_ref-39\"><a href=\"#cite_note-39\">[32]</a></sup> and an <a href=\"/wiki/Falcon_9_first-stage_landing_tests\" title=\"Falcon 9 first-stage landing tests\">ocean touchdown test</a> for the first time. This provided good test data, even though the booster started rolling as it neared the ocean, leading to the shutdown of the central engine as the roll depleted it of fuel, resulting in a hard impact with the ocean.<sup class=\"reference\" id=\"cite_ref-pa20130930_36-2\"><a href=\"#cite_note-pa20130930-36\">[30]</a></sup> This was the first known attempt of a rocket engine being lit to perform a supersonic retro propulsion, and allowed SpaceX to enter a public-private partnership with <a href=\"/wiki/NASA\" title=\"NASA\">NASA</a> and its Mars entry, descent, and landing technologies research projects.<sup class=\"reference\" id=\"cite_ref-40\"><a href=\"#cite_note-40\">[33]</a></sup> <small>(<a href=\"#Maiden_flight_of_v1.1\">more details below</a>)</small>\n",
      "</td></tr>\n",
      "<tr>\n",
      "<th rowspan=\"2\" scope=\"row\" style=\"text-align:center;\">7\n",
      "</th>\n",
      "<td>3 December 2013,<br/>22:41<sup class=\"reference\" id=\"cite_ref-sfn_wwls20130624_41-0\"><a href=\"#cite_note-sfn_wwls20130624-41\">[34]</a></sup>\n",
      "</td>\n",
      "<td><a href=\"/wiki/Falcon_9_v1.1\" title=\"Falcon 9 v1.1\">F9 v1.1</a><br/>B1004\n",
      "</td>\n",
      "<td><a href=\"/wiki/Cape_Canaveral_Space_Force_Station\" title=\"Cape Canaveral Space Force Station\">CCAFS</a>,<br/><a href=\"/wiki/Cape_Canaveral_Space_Launch_Complex_40\" title=\"Cape Canaveral Space Launch Complex 40\">SLC-40</a>\n",
      "</td>\n",
      "<td><a href=\"/wiki/SES-8\" title=\"SES-8\">SES-8</a><sup class=\"reference\" id=\"cite_ref-sxManifest20120925_28-3\"><a href=\"#cite_note-sxManifest20120925-28\">[22]</a></sup><sup class=\"reference\" id=\"cite_ref-spx-pr_42-0\"><a href=\"#cite_note-spx-pr-42\">[35]</a></sup><sup class=\"reference\" id=\"cite_ref-aw20110323_43-0\"><a href=\"#cite_note-aw20110323-43\">[36]</a></sup>\n",
      "</td>\n",
      "<td>3,170 kg (6,990 lb)\n",
      "</td>\n",
      "<td><a href=\"/wiki/Geostationary_transfer_orbit\" title=\"Geostationary transfer orbit\">GTO</a>\n",
      "</td>\n",
      "<td><a href=\"/wiki/SES_S.A.\" title=\"SES S.A.\">SES</a>\n",
      "</td>\n",
      "<td class=\"table-success\" style=\"background: #9EFF9E; vertical-align: middle; text-align: center;\">Success<sup class=\"reference\" id=\"cite_ref-SNMissionStatus7_44-0\"><a href=\"#cite_note-SNMissionStatus7-44\">[37]</a></sup>\n",
      "</td>\n",
      "<td class=\"table-noAttempt\" style=\"background: #EEE; vertical-align: middle; white-space: nowrap; text-align: center;\">No attempt<br/><sup class=\"reference\" id=\"cite_ref-sf10120131203_45-0\"><a href=\"#cite_note-sf10120131203-45\">[38]</a></sup>\n",
      "</td></tr>\n",
      "<tr>\n",
      "<td colspan=\"9\">First <a href=\"/wiki/Geostationary_transfer_orbit\" title=\"Geostationary transfer orbit\">Geostationary transfer orbit</a> (GTO) launch for Falcon 9,<sup class=\"reference\" id=\"cite_ref-spx-pr_42-1\"><a href=\"#cite_note-spx-pr-42\">[35]</a></sup> and first successful reignition of the second stage.<sup class=\"reference\" id=\"cite_ref-46\"><a href=\"#cite_note-46\">[39]</a></sup> SES-8 was inserted into a <a href=\"/wiki/Geostationary_transfer_orbit\" title=\"Geostationary transfer orbit\">Super-Synchronous Transfer Orbit</a> of 79,341 km (49,300 mi) in apogee with an <a href=\"/wiki/Orbital_inclination\" title=\"Orbital inclination\">inclination</a> of 20.55° to the <a href=\"/wiki/Equator\" title=\"Equator\">equator</a>.\n",
      "</td></tr></tbody></table>\n"
     ]
    }
   ],
   "source": [
    "# Let's print the third table and check its content\n",
    "first_launch_table = html_tables[2]\n",
    "print(first_launch_table)"
   ]
  },
  {
   "cell_type": "markdown",
   "metadata": {},
   "source": [
    "You should able to see the columns names embedded in the table header elements `<th>` as follows:\n"
   ]
  },
  {
   "cell_type": "markdown",
   "metadata": {},
   "source": [
    "```\n",
    "<tr>\n",
    "<th scope=\"col\">Flight No.\n",
    "</th>\n",
    "<th scope=\"col\">Date and<br/>time (<a href=\"/wiki/Coordinated_Universal_Time\" title=\"Coordinated Universal Time\">UTC</a>)\n",
    "</th>\n",
    "<th scope=\"col\"><a href=\"/wiki/List_of_Falcon_9_first-stage_boosters\" title=\"List of Falcon 9 first-stage boosters\">Version,<br/>Booster</a> <sup class=\"reference\" id=\"cite_ref-booster_11-0\"><a href=\"#cite_note-booster-11\">[b]</a></sup>\n",
    "</th>\n",
    "<th scope=\"col\">Launch site\n",
    "</th>\n",
    "<th scope=\"col\">Payload<sup class=\"reference\" id=\"cite_ref-Dragon_12-0\"><a href=\"#cite_note-Dragon-12\">[c]</a></sup>\n",
    "</th>\n",
    "<th scope=\"col\">Payload mass\n",
    "</th>\n",
    "<th scope=\"col\">Orbit\n",
    "</th>\n",
    "<th scope=\"col\">Customer\n",
    "</th>\n",
    "<th scope=\"col\">Launch<br/>outcome\n",
    "</th>\n",
    "<th scope=\"col\"><a href=\"/wiki/Falcon_9_first-stage_landing_tests\" title=\"Falcon 9 first-stage landing tests\">Booster<br/>landing</a>\n",
    "</th></tr>\n",
    "```\n"
   ]
  },
  {
   "cell_type": "markdown",
   "metadata": {},
   "source": [
    "Next, we just need to iterate through the `<th>` elements and apply the provided `extract_column_from_header()` to extract column name one by one\n"
   ]
  },
  {
   "cell_type": "markdown",
   "metadata": {},
   "source": [
    "接下来，我们只需要遍历`<th>`元素，并应用提供的`extract_column_from_header()`函数来逐个提取列名。\n",
    "\n",
    "详细解释：\n",
    "1. **遍历`<th>`元素**:\n",
    "   HTML表格通常由`<table>`标签定义。在表格中，`<th>`标签用于定义头部单元格，它通常表示列的标题或名称。遍历`<th>`元素意味着我们要按顺序查看每一个这样的头部单元格。\n",
    "\n",
    "2. **应用`extract_column_from_header()`函数**:\n",
    "   这意味着对每一个遍历到的`<th>`元素，我们都会调用`extract_column_from_header()`这个函数，并将该`<th>`元素作为参数传递（或其内容，具体取决于函数的设计）。这个函数的目的可能是从`<th>`元素中提取特定的文本或数据，例如列的名称或其他相关信息。\n",
    "\n",
    "3. **逐个提取列名**:\n",
    "   当我们遍历表格的每一个`<th>`元素并使用`extract_column_from_header()`函数时，我们会逐个得到每一列的名称。这可能是为了创建一个列名的列表，或者为了其他一些目的，如数据整理或分析。\n",
    "\n",
    "总之，这句话的意思是：对于HTML表格中的每一个列标题（由`<th>`标签定义），我们都会使用一个特定的函数`extract_column_from_header()`来提取该列的名称或标题。"
   ]
  },
  {
   "cell_type": "code",
   "execution_count": 17,
   "metadata": {
    "tags": []
   },
   "outputs": [],
   "source": [
    "column_names = []\n",
    "\n",
    "# Apply find_all() function with `th` element on first_launch_table\n",
    "# Iterate each th element and apply the provided extract_column_from_header() to get a column name\n",
    "# Append the Non-empty column name (`if name is not None and len(name) > 0`) into a list called column_names\n",
    "# Apply find_all() function with `th` element on first_launch_table\n",
    "table_headers = first_launch_table.find_all('th')\n",
    "\n",
    "for th in table_headers:\n",
    "    # Apply the provided extract_column_from_header() to get a column name\n",
    "    column_name = extract_column_from_header(th)\n",
    "    \n",
    "    # Append the Non-empty column name (`if name is not None and len(name) > 0`) into a list called column_names\n",
    "    if column_name is not None and len(column_name) > 0:\n",
    "        column_names.append(column_name)\n"
   ]
  },
  {
   "cell_type": "markdown",
   "metadata": {},
   "source": [
    "Check the extracted column names\n"
   ]
  },
  {
   "cell_type": "code",
   "execution_count": 18,
   "metadata": {
    "tags": []
   },
   "outputs": [
    {
     "name": "stdout",
     "output_type": "stream",
     "text": [
      "['Flight No.', 'Date and time ( )', 'Launch site', 'Payload', 'Payload mass', 'Orbit', 'Customer', 'Launch outcome']\n"
     ]
    }
   ],
   "source": [
    "print(column_names)"
   ]
  },
  {
   "cell_type": "markdown",
   "metadata": {},
   "source": [
    "## TASK 3: Create a data frame by parsing the launch HTML tables\n"
   ]
  },
  {
   "cell_type": "markdown",
   "metadata": {},
   "source": [
    "We will create an empty dictionary with keys from the extracted column names in the previous task. Later, this dictionary will be converted into a Pandas dataframe\n"
   ]
  },
  {
   "cell_type": "markdown",
   "metadata": {},
   "source": [
    "这段代码首先创建一个字典，并然后修改和扩展这个字典。下面是对代码的详细解释：\n",
    "\n",
    "1. **创建一个新的字典**:\n",
    "```python\n",
    "launch_dict= dict.fromkeys(column_names)\n",
    "```\n",
    "这行代码使用 `dict.fromkeys()` 方法创建一个新的字典。这个方法将 `column_names` 列表中的每个项作为字典的键，并为每个键分配一个默认的 `None` 值。因此，如果 `column_names` 是 `['a', 'b', 'c']`，那么 `launch_dict` 将为 `{ 'a': None, 'b': None, 'c': None }`。\n",
    "\n",
    "2. **删除一个不相关的列**:\n",
    "```python\n",
    "del launch_dict['Date and time ( )']\n",
    "```\n",
    "这行代码使用 `del` 语句从 `launch_dict` 字典中删除 `'Date and time ( )'` 这个键及其对应的值。\n",
    "\n",
    "3. **初始化 `launch_dict`**:\n",
    "接下来的几行代码将 `launch_dict` 字典中的特定键的值设置为一个空列表。例如：\n",
    "```python\n",
    "launch_dict['Flight No.'] = []\n",
    "```\n",
    "这行代码将 `'Flight No.'` 这个键的值设置为一个空列表。\n",
    "\n",
    "4. **添加新的列**:\n",
    "最后几行代码为 `launch_dict` 添加了一些新的键，并为它们分配了空列表作为值。\n",
    "\n",
    "综上所述，这段代码的目的是初始化一个字典，该字典表示某种启动数据（可能是火箭发射）。每个键代表一个数据列，而值（在这里是空列表）将用于存储该列的数据。"
   ]
  },
  {
   "cell_type": "code",
   "execution_count": 20,
   "metadata": {
    "tags": []
   },
   "outputs": [],
   "source": [
    "launch_dict= dict.fromkeys(column_names)\n",
    "\n",
    "# Remove an irrelvant column\n",
    "del launch_dict['Date and time ( )']\n",
    "\n",
    "# Let's initial the launch_dict with each value to be an empty list\n",
    "launch_dict['Flight No.'] = []\n",
    "launch_dict['Launch site'] = []\n",
    "launch_dict['Payload'] = []\n",
    "launch_dict['Payload mass'] = []\n",
    "launch_dict['Orbit'] = []\n",
    "launch_dict['Customer'] = []\n",
    "launch_dict['Launch outcome'] = []\n",
    "# Added some new columns\n",
    "launch_dict['Version Booster']=[]\n",
    "launch_dict['Booster landing']=[]\n",
    "launch_dict['Date']=[]\n",
    "launch_dict['Time']=[]"
   ]
  },
  {
   "cell_type": "markdown",
   "metadata": {},
   "source": [
    "Next, we just need to fill up the `launch_dict` with launch records extracted from table rows.\n"
   ]
  },
  {
   "cell_type": "markdown",
   "metadata": {},
   "source": [
    "Usually, HTML tables in Wiki pages are likely to contain unexpected annotations and other types of noises, such as reference links `B0004.1[8]`, missing values `N/A [e]`, inconsistent formatting, etc.\n"
   ]
  },
  {
   "cell_type": "markdown",
   "metadata": {},
   "source": [
    "To simplify the parsing process, we have provided an incomplete code snippet below to help you to fill up the `launch_dict`. Please complete the following code snippet with TODOs or you can choose to write your own logic to parse all launch tables:\n"
   ]
  },
  {
   "cell_type": "markdown",
   "metadata": {},
   "source": [
    "翻译：\n",
    "接下来，我们只需要用从表格行中提取的发射记录填充`launch_dict`。\n",
    "\n",
    "通常，Wiki页面中的HTML表格可能包含意外的注解和其他类型的噪音，如参考链接B0004.1[8]、缺失值N/A [e]、不一致的格式等。\n",
    "\n",
    "为了简化解析过程，我们在下面提供了一个不完整的代码片段，以帮助你填充`launch_dict`。请完成以下带有TODOs的代码片段，或者你可以选择编写自己的逻辑来解析所有的发射表格：\n",
    "\n",
    "详细解释：\n",
    "1. **填充`launch_dict`**:\n",
    "    该文段首先提到了一个即将进行的任务，即使用从HTML表格行中提取的数据来填充`launch_dict`字典。\n",
    "\n",
    "2. **HTML表格中的噪音**:\n",
    "    在很多Wiki页面的HTML表格中，可能会出现一些我们不希望解析的数据，或者说噪音。这些噪音可能是参考链接（例如`B0004.1[8]`）、缺失值（例如`N/A [e]`）或不一致的格式。\n",
    "\n",
    "3. **简化解析过程**:\n",
    "    由于HTML表格中可能存在各种不一致性和噪音，解析这些表格可能会很复杂。为了帮助读者简化这个过程，提供了一个不完整的代码片段。这个片段可能已经包含了一些基本的解析逻辑，但还需要用户补充和完成。\n",
    "\n",
    "4. **完成代码或编写自己的逻辑**:\n",
    "    最后，读者被给予选择：他们可以按照给定的指示（TODOs）完成提供的代码片段，或者完全从头开始，使用自己的逻辑来解析表格。\n",
    "\n",
    "这段文字基本上是一个介绍和指导，它描述了解析Wiki页面中的HTML表格所面临的挑战，并提供了一个部分完成的代码片段来帮助解决这些问题。"
   ]
  },
  {
   "cell_type": "markdown",
   "metadata": {},
   "source": [
    "#### 下面代码片段旨在从一个Wiki页面中提取火箭发射相关的数据。该页面使用了带有特定CSS类的HTML表格来存储这些信息。下面是对代码的详细解释：\n",
    "\n",
    "1. **初始化**:\n",
    "```python\n",
    "extracted_row = 0\n",
    "```\n",
    "这行代码初始化了一个变量 `extracted_row`，用于计数提取的行数。\n",
    "\n",
    "2. **遍历每个表格**:\n",
    "```python\n",
    "for table_number, table in enumerate(soup.find_all('table', \"wikitable plainrowheaders collapsible\")):\n",
    "```\n",
    "使用`enumerate`和`soup.find_all`遍历页面上的所有匹配指定CSS类的表格。\n",
    "\n",
    "3. **提取表格行**:\n",
    "```python\n",
    "for rows in table.find_all(\"tr\"):\n",
    "```\n",
    "这里，我们遍历当前表格中的每一行。\n",
    "\n",
    "4. **检查航班号**:\n",
    "以下代码检查行的第一个表头是否是一个数字（代表航班号）：\n",
    "```python\n",
    "if rows.th:\n",
    "    if rows.th.string:\n",
    "        flight_number = rows.th.string.strip()\n",
    "        flag = flight_number.isdigit()\n",
    "else:\n",
    "    flag = False\n",
    "```\n",
    "如果该行的第一个表头是数字，`flag` 设置为`True`，否则为`False`。\n",
    "\n",
    "5. **提取行数据**:\n",
    "如果 `flag` 为 `True`（表示当前行确实包含发射数据），则执行以下操作：\n",
    "- 递增 `extracted_row`，表示已提取的行数。\n",
    "- 提取与火箭发射相关的各种数据，如航班号、日期、时间、助推器版本、发射地点等。每次提取都使用特定的方法或逻辑。\n",
    "  \n",
    "  例如：\n",
    "```python\n",
    "datatimelist = date_time(row[0])\n",
    "```\n",
    "这里使用了 `date_time` 函数（在代码片段中没有提供，但可能在其他地方定义）来处理和提取日期和时间信息。\n",
    "\n",
    "6. **TODOs**:\n",
    "在代码中，有许多 `TODO` 注释，提示你需要将提取的数据追加到之前初始化的 `launch_dict` 字典中。例如：\n",
    "```python\n",
    "# TODO: Append the flight_number into launch_dict with key `Flight No.`\n",
    "```\n",
    "这个 `TODO` 提示你应该将提取的 `flight_number` 添加到 `launch_dict` 字典的 `Flight No.` 键下。\n",
    "\n",
    "总的来说，这个代码片段是为了从Wiki页面上的特定表格中提取火箭发射的相关数据，并将这些数据存储在一个字典中。它使用了BeautifulSoup库来解析HTML，并提取所需的数据。"
   ]
  },
  {
   "cell_type": "markdown",
   "metadata": {},
   "source": [
    "#### 该错误是由于在尝试访问一个`None`对象的`.string`属性时产生的。具体来说，这是因为你试图访问`row[6].a`，但`row[6]`可能没有`<a>`标签，导致返回`None`。然后你尝试从这个`None`对象中获取`.string`属性，引发了错误。\n",
    "\n",
    "为了修复这个问题，我们需要增加额外的检查以确保`<a>`标签存在。\n",
    "\n",
    "修改如下：\n",
    "\n",
    "```python\n",
    "if row[6].a:  # Check if the <a> tag exists\n",
    "    customer = row[6].a.string\n",
    "else:\n",
    "    customer = row[6].string  # Fallback to the text within the <td> tag\n",
    "```\n",
    "\n",
    "整合到你的代码中：\n",
    "\n",
    "```python\n",
    "...\n",
    "# Customer\n",
    "# TODO: Append the customer into launch_dict with key `Customer`\n",
    "if row[6].a:  # Check if the <a> tag exists\n",
    "    customer = row[6].a.string\n",
    "else:\n",
    "    customer = row[6].string  # Fallback to the text within the <td> tag\n",
    "#print(customer)\n",
    "...\n",
    "```\n",
    "\n",
    "这样，即使`row[6]`中没有`<a>`标签，代码也会尝试从`<td>`标签中提取文本，从而避免了错误。确保其他可能出现相似问题的地方也进行类似的检查。"
   ]
  },
  {
   "cell_type": "code",
   "execution_count": 24,
   "metadata": {
    "tags": []
   },
   "outputs": [],
   "source": [
    "extracted_row = 0\n",
    "#Extract each table \n",
    "for table_number,table in enumerate(soup.find_all('table',\"wikitable plainrowheaders collapsible\")):\n",
    "   # get table row \n",
    "    for rows in table.find_all(\"tr\"):\n",
    "        #check to see if first table heading is as number corresponding to launch a number \n",
    "        if rows.th:\n",
    "            if rows.th.string:\n",
    "                flight_number=rows.th.string.strip()\n",
    "                flag=flight_number.isdigit()\n",
    "        else:\n",
    "            flag=False\n",
    "        #get table element \n",
    "        row=rows.find_all('td')\n",
    "        #if it is number save cells in a dictonary \n",
    "        if flag:\n",
    "            extracted_row += 1\n",
    "            # Flight Number value\n",
    "            # TODO: Append the flight_number into launch_dict with key `Flight No.`\n",
    "            #print(flight_number)\n",
    "            datatimelist=date_time(row[0])\n",
    "            \n",
    "            # Date value\n",
    "            # TODO: Append the date into launch_dict with key `Date`\n",
    "            date = datatimelist[0].strip(',')\n",
    "            #print(date)\n",
    "            \n",
    "            # Time value\n",
    "            # TODO: Append the time into launch_dict with key `Time`\n",
    "            time = datatimelist[1]\n",
    "            #print(time)\n",
    "              \n",
    "            # Booster version\n",
    "            # TODO: Append the bv into launch_dict with key `Version Booster`\n",
    "            bv=booster_version(row[1])\n",
    "            if not(bv):\n",
    "                bv=row[1].a.string\n",
    "            # print(bv)\n",
    "            \n",
    "            # Launch Site\n",
    "            # TODO: Append the bv into launch_dict with key `Launch Site`\n",
    "            launch_site = row[2].a.string\n",
    "            #print(launch_site)\n",
    "            \n",
    "            # Payload\n",
    "            # TODO: Append the payload into launch_dict with key `Payload`\n",
    "            payload = row[3].a.string\n",
    "            #print(payload)\n",
    "            \n",
    "            # Payload Mass\n",
    "            # TODO: Append the payload_mass into launch_dict with key `Payload mass`\n",
    "            payload_mass = get_mass(row[4])\n",
    "            #print(payload)\n",
    "            \n",
    "            # Orbit\n",
    "            # TODO: Append the orbit into launch_dict with key `Orbit`\n",
    "            orbit = row[5].a.string\n",
    "            #print(orbit)\n",
    "            \n",
    "            # Customer\n",
    "            # TODO: Append the customer into launch_dict with key `Customer`\n",
    "            if row[6].a:  # Check if the <a> tag exists\n",
    "                customer = row[6].a.string\n",
    "            else:\n",
    "                customer = row[6].string  # Fallback to the text within the <td> tag\n",
    "\n",
    "            #print(customer)\n",
    "            \n",
    "            # Launch outcome\n",
    "            # TODO: Append the launch_outcome into launch_dict with key `Launch outcome`\n",
    "            launch_outcome = list(row[7].strings)[0]\n",
    "            #print(launch_outcome)\n",
    "            \n",
    "            # Booster landing\n",
    "            # TODO: Append the launch_outcome into launch_dict with key `Booster landing`\n",
    "            booster_landing = landing_status(row[8])\n",
    "            #print(booster_landing)            "
   ]
  },
  {
   "cell_type": "code",
   "execution_count": 26,
   "metadata": {
    "tags": []
   },
   "outputs": [],
   "source": [
    "extracted_row = 0\n",
    "launch_dict = {}  # initialize an empty dictionary\n",
    "\n",
    "#Extract each table \n",
    "for table_number, table in enumerate(soup.find_all('table',\"wikitable plainrowheaders collapsible\")):\n",
    "    # get table row \n",
    "    for rows in table.find_all(\"tr\"):\n",
    "        #check to see if first table heading is as number corresponding to launch a number \n",
    "        if rows.th:\n",
    "            if rows.th.string:\n",
    "                flight_number=rows.th.string.strip()\n",
    "                flag=flight_number.isdigit()\n",
    "        else:\n",
    "            flag=False\n",
    "        #get table element \n",
    "        row=rows.find_all('td')\n",
    "        #if it is number save cells in a dictonary \n",
    "        if flag:\n",
    "            extracted_row += 1\n",
    "            launch_dict[extracted_row] = {}  # create a new dictionary for each row\n",
    "            \n",
    "            # Flight Number value\n",
    "            # TODO: Append the flight_number into launch_dict with key `Flight No.`\n",
    "            launch_dict[extracted_row]['Flight No.'] = flight_number\n",
    "            \n",
    "            datatimelist=date_time(row[0])\n",
    "            \n",
    "            # Date value\n",
    "            # TODO: Append the date into launch_dict with key `Date`\n",
    "            launch_dict[extracted_row]['Date'] = datatimelist[0].strip(',')\n",
    "            \n",
    "            # Time value\n",
    "            # TODO: Append the time into launch_dict with key `Time`\n",
    "            launch_dict[extracted_row]['Time'] = datatimelist[1]\n",
    "              \n",
    "            # Booster version\n",
    "            # TODO: Append the bv into launch_dict with key `Version Booster`\n",
    "            bv=booster_version(row[1])\n",
    "            if not(bv):\n",
    "                bv=row[1].a.string\n",
    "            launch_dict[extracted_row]['Version Booster'] = bv\n",
    "            \n",
    "            # Launch Site\n",
    "            # TODO: Append the bv into launch_dict with key `Launch Site`\n",
    "            launch_dict[extracted_row]['Launch Site'] = row[2].a.string\n",
    "            \n",
    "            # Payload\n",
    "            # TODO: Append the payload into launch_dict with key `Payload`\n",
    "            launch_dict[extracted_row]['Payload'] = row[3].a.string\n",
    "            \n",
    "            # Payload Mass\n",
    "            # TODO: Append the payload_mass into launch_dict with key `Payload mass`\n",
    "            launch_dict[extracted_row]['Payload mass'] = get_mass(row[4])\n",
    "            \n",
    "            # Orbit\n",
    "            # TODO: Append the orbit into launch_dict with key `Orbit`\n",
    "            launch_dict[extracted_row]['Orbit'] = row[5].a.string\n",
    "            \n",
    "            # Customer\n",
    "            # TODO: Append the customer into launch_dict with key `Customer`\n",
    "            if row[6].a:  # Check if the <a> tag exists\n",
    "                launch_dict[extracted_row]['Customer'] = row[6].a.string\n",
    "            else:\n",
    "                launch_dict[extracted_row]['Customer'] = row[6].string  # Fallback to the text within the <td> tag\n",
    "            \n",
    "            # Launch outcome\n",
    "            # TODO: Append the launch_outcome into launch_dict with key `Launch outcome`\n",
    "            launch_dict[extracted_row]['Launch outcome'] = list(row[7].strings)[0]\n",
    "            \n",
    "            # Booster landing\n",
    "            # TODO: Append the launch_outcome into launch_dict with key `Booster landing`\n",
    "            launch_dict[extracted_row]['Booster landing'] = landing_status(row[8])\n"
   ]
  },
  {
   "cell_type": "markdown",
   "metadata": {},
   "source": [
    "After you have fill in the parsed launch record values into `launch_dict`, you can create a dataframe from it.\n"
   ]
  },
  {
   "cell_type": "code",
   "execution_count": 29,
   "metadata": {
    "tags": []
   },
   "outputs": [
    {
     "data": {
      "text/html": [
       "<div>\n",
       "<style scoped>\n",
       "    .dataframe tbody tr th:only-of-type {\n",
       "        vertical-align: middle;\n",
       "    }\n",
       "\n",
       "    .dataframe tbody tr th {\n",
       "        vertical-align: top;\n",
       "    }\n",
       "\n",
       "    .dataframe thead th {\n",
       "        text-align: right;\n",
       "    }\n",
       "</style>\n",
       "<table border=\"1\" class=\"dataframe\">\n",
       "  <thead>\n",
       "    <tr style=\"text-align: right;\">\n",
       "      <th></th>\n",
       "      <th>1</th>\n",
       "      <th>2</th>\n",
       "      <th>3</th>\n",
       "      <th>4</th>\n",
       "      <th>5</th>\n",
       "      <th>6</th>\n",
       "      <th>7</th>\n",
       "      <th>8</th>\n",
       "      <th>9</th>\n",
       "      <th>10</th>\n",
       "      <th>...</th>\n",
       "      <th>112</th>\n",
       "      <th>113</th>\n",
       "      <th>114</th>\n",
       "      <th>115</th>\n",
       "      <th>116</th>\n",
       "      <th>117</th>\n",
       "      <th>118</th>\n",
       "      <th>119</th>\n",
       "      <th>120</th>\n",
       "      <th>121</th>\n",
       "    </tr>\n",
       "  </thead>\n",
       "  <tbody>\n",
       "    <tr>\n",
       "      <th>Flight No.</th>\n",
       "      <td>1</td>\n",
       "      <td>2</td>\n",
       "      <td>3</td>\n",
       "      <td>4</td>\n",
       "      <td>5</td>\n",
       "      <td>6</td>\n",
       "      <td>7</td>\n",
       "      <td>8</td>\n",
       "      <td>9</td>\n",
       "      <td>10</td>\n",
       "      <td>...</td>\n",
       "      <td>112</td>\n",
       "      <td>113</td>\n",
       "      <td>114</td>\n",
       "      <td>115</td>\n",
       "      <td>116</td>\n",
       "      <td>117</td>\n",
       "      <td>118</td>\n",
       "      <td>119</td>\n",
       "      <td>120</td>\n",
       "      <td>121</td>\n",
       "    </tr>\n",
       "    <tr>\n",
       "      <th>Date</th>\n",
       "      <td>4 June 2010</td>\n",
       "      <td>8 December 2010</td>\n",
       "      <td>22 May 2012</td>\n",
       "      <td>8 October 2012</td>\n",
       "      <td>1 March 2013</td>\n",
       "      <td>29 September 2013</td>\n",
       "      <td>3 December 2013</td>\n",
       "      <td>6 January 2014</td>\n",
       "      <td>18 April 2014</td>\n",
       "      <td>14 July 2014</td>\n",
       "      <td>...</td>\n",
       "      <td>24 March 2021</td>\n",
       "      <td>7 April 2021</td>\n",
       "      <td>23 April 2021</td>\n",
       "      <td>29 April 2021</td>\n",
       "      <td>4 May 2021</td>\n",
       "      <td>9 May 2021</td>\n",
       "      <td>15 May 2021</td>\n",
       "      <td>26 May 2021</td>\n",
       "      <td>3 June 2021</td>\n",
       "      <td>6 June 2021</td>\n",
       "    </tr>\n",
       "    <tr>\n",
       "      <th>Time</th>\n",
       "      <td>18:45</td>\n",
       "      <td>15:43</td>\n",
       "      <td>07:44</td>\n",
       "      <td>00:35</td>\n",
       "      <td>15:10</td>\n",
       "      <td>16:00</td>\n",
       "      <td>22:41</td>\n",
       "      <td>22:06</td>\n",
       "      <td>19:25</td>\n",
       "      <td>15:15</td>\n",
       "      <td>...</td>\n",
       "      <td>08:28</td>\n",
       "      <td>16:34</td>\n",
       "      <td>9:49</td>\n",
       "      <td>03:44</td>\n",
       "      <td>19:01</td>\n",
       "      <td>06:42</td>\n",
       "      <td>22:56</td>\n",
       "      <td>18:59</td>\n",
       "      <td>17:29</td>\n",
       "      <td>04:26</td>\n",
       "    </tr>\n",
       "    <tr>\n",
       "      <th>Version Booster</th>\n",
       "      <td>F9 v1.0B0003.1</td>\n",
       "      <td>F9 v1.0B0004.1</td>\n",
       "      <td>F9 v1.0B0005.1</td>\n",
       "      <td>F9 v1.0B0006.1</td>\n",
       "      <td>F9 v1.0B0007.1</td>\n",
       "      <td>F9 v1.1B1003</td>\n",
       "      <td>F9 v1.1</td>\n",
       "      <td>F9 v1.1</td>\n",
       "      <td>F9 v1.1</td>\n",
       "      <td>F9 v1.1</td>\n",
       "      <td>...</td>\n",
       "      <td>F9 B5B1060.6</td>\n",
       "      <td>F9 B5 ♺</td>\n",
       "      <td>F9 B5B1061.2</td>\n",
       "      <td>F9 B5B1060.7</td>\n",
       "      <td>F9 B5B1049.9</td>\n",
       "      <td>F9 B5B1051.10</td>\n",
       "      <td>F9 B5B1058.8</td>\n",
       "      <td>F9 B5B1063.2</td>\n",
       "      <td>F9 B5B1067.1</td>\n",
       "      <td>F9 B5</td>\n",
       "    </tr>\n",
       "    <tr>\n",
       "      <th>Launch Site</th>\n",
       "      <td>CCAFS</td>\n",
       "      <td>CCAFS</td>\n",
       "      <td>CCAFS</td>\n",
       "      <td>CCAFS</td>\n",
       "      <td>CCAFS</td>\n",
       "      <td>VAFB</td>\n",
       "      <td>CCAFS</td>\n",
       "      <td>CCAFS</td>\n",
       "      <td>Cape Canaveral</td>\n",
       "      <td>Cape Canaveral</td>\n",
       "      <td>...</td>\n",
       "      <td>CCSFS</td>\n",
       "      <td>CCSFS</td>\n",
       "      <td>KSC</td>\n",
       "      <td>CCSFS</td>\n",
       "      <td>KSC</td>\n",
       "      <td>CCSFS</td>\n",
       "      <td>KSC</td>\n",
       "      <td>CCSFS</td>\n",
       "      <td>KSC</td>\n",
       "      <td>CCSFS</td>\n",
       "    </tr>\n",
       "  </tbody>\n",
       "</table>\n",
       "<p>5 rows × 121 columns</p>\n",
       "</div>"
      ],
      "text/plain": [
       "                            1                2               3    \\\n",
       "Flight No.                    1                2               3   \n",
       "Date                4 June 2010  8 December 2010     22 May 2012   \n",
       "Time                      18:45            15:43           07:44   \n",
       "Version Booster  F9 v1.0B0003.1   F9 v1.0B0004.1  F9 v1.0B0005.1   \n",
       "Launch Site               CCAFS            CCAFS           CCAFS   \n",
       "\n",
       "                            4               5                  6    \\\n",
       "Flight No.                    4               5                  6   \n",
       "Date             8 October 2012    1 March 2013  29 September 2013   \n",
       "Time                      00:35           15:10              16:00   \n",
       "Version Booster  F9 v1.0B0006.1  F9 v1.0B0007.1       F9 v1.1B1003   \n",
       "Launch Site               CCAFS           CCAFS               VAFB   \n",
       "\n",
       "                             7               8               9    \\\n",
       "Flight No.                     7               8               9   \n",
       "Date             3 December 2013  6 January 2014   18 April 2014   \n",
       "Time                       22:41           22:06           19:25   \n",
       "Version Booster          F9 v1.1         F9 v1.1         F9 v1.1   \n",
       "Launch Site                CCAFS           CCAFS  Cape Canaveral   \n",
       "\n",
       "                            10   ...            112           113  \\\n",
       "Flight No.                   10  ...            112           113   \n",
       "Date               14 July 2014  ...  24 March 2021  7 April 2021   \n",
       "Time                      15:15  ...          08:28         16:34   \n",
       "Version Booster         F9 v1.1  ...   F9 B5B1060.6       F9 B5 ♺   \n",
       "Launch Site      Cape Canaveral  ...          CCSFS         CCSFS   \n",
       "\n",
       "                           114            115           116            117  \\\n",
       "Flight No.                 114            115           116            117   \n",
       "Date             23 April 2021  29 April 2021    4 May 2021     9 May 2021   \n",
       "Time                      9:49          03:44         19:01          06:42   \n",
       "Version Booster   F9 B5B1061.2   F9 B5B1060.7  F9 B5B1049.9  F9 B5B1051.10   \n",
       "Launch Site                KSC          CCSFS           KSC          CCSFS   \n",
       "\n",
       "                          118           119           120          121  \n",
       "Flight No.                118           119           120          121  \n",
       "Date              15 May 2021   26 May 2021   3 June 2021  6 June 2021  \n",
       "Time                    22:56         18:59         17:29        04:26  \n",
       "Version Booster  F9 B5B1058.8  F9 B5B1063.2  F9 B5B1067.1        F9 B5  \n",
       "Launch Site               KSC         CCSFS           KSC        CCSFS  \n",
       "\n",
       "[5 rows x 121 columns]"
      ]
     },
     "execution_count": 29,
     "metadata": {},
     "output_type": "execute_result"
    }
   ],
   "source": [
    "df=pd.DataFrame(launch_dict)\n",
    "df.head()"
   ]
  },
  {
   "cell_type": "markdown",
   "metadata": {},
   "source": [
    "We can now export it to a <b>CSV</b> for the next section, but to make the answers consistent and in case you have difficulties finishing this lab. \n",
    "\n",
    "Following labs will be using a provided dataset to make each lab independent. \n"
   ]
  },
  {
   "cell_type": "markdown",
   "metadata": {},
   "source": [
    "翻译：\n",
    "我们现在可以将其导出为CSV，用于下一部分，但为了使答案保持一致，以及以防您在完成此实验时遇到困难。\n",
    "\n",
    "接下来的实验将使用提供的数据集，使每个实验都独立。\n",
    "\n",
    "详细解释：\n",
    "这段话描述了一种处理数据的方法和其背后的原因。\n",
    "\n",
    "1. **我们现在可以将其导出为CSV，用于下一部分**：这意味着当前的数据或结果可以被保存为一个CSV文件，以备在接下来的步骤或部分中使用。\n",
    "\n",
    "2. **但为了使答案保持一致，以及以防您在完成此实验时遇到困难**：这句话解释了为什么要这样做。首先，他们希望所有的答案或结果都是一致的，这可能是为了教学的目的，确保每个人都从相同的起点开始。其次，如果某些参与者或学生在实验中遇到问题或困难，他们仍然可以继续进行下一步，而不会因为前面的错误或问题而受到影响。\n",
    "\n",
    "3. **接下来的实验将使用提供的数据集，使每个实验都独立**：这句话告诉我们，尽管每个实验都是连续的，但它们是独立设计的。这意味着每个实验都有自己的提供的数据集，不依赖于前一个实验的结果。这样设计是为了使每个实验或任务都能独立于其他实验运行，不会因为一个实验中的问题而影响到其他实验。"
   ]
  },
  {
   "cell_type": "markdown",
   "metadata": {},
   "source": [
    "<code>df.to_csv('spacex_web_scraped.csv', index=False)</code>\n"
   ]
  },
  {
   "cell_type": "markdown",
   "metadata": {},
   "source": [
    "## Authors\n"
   ]
  },
  {
   "cell_type": "markdown",
   "metadata": {},
   "source": [
    "<a href=\"https://www.linkedin.com/in/yan-luo-96288783/?utm_medium=Exinfluencer&utm_source=Exinfluencer&utm_content=000026UJ&utm_term=10006555&utm_id=NA-SkillsNetwork-Channel-SkillsNetworkCoursesIBMDS0321ENSkillsNetwork865-2023-01-01\">Yan Luo</a>\n"
   ]
  },
  {
   "cell_type": "markdown",
   "metadata": {},
   "source": [
    "<a href=\"https://www.linkedin.com/in/nayefaboutayoun/?utm_medium=Exinfluencer&utm_source=Exinfluencer&utm_content=000026UJ&utm_term=10006555&utm_id=NA-SkillsNetwork-Channel-SkillsNetworkCoursesIBMDS0321ENSkillsNetwork865-2023-01-01\">Nayef Abou Tayoun</a>\n"
   ]
  },
  {
   "cell_type": "markdown",
   "metadata": {},
   "source": [
    "## Change Log\n"
   ]
  },
  {
   "cell_type": "markdown",
   "metadata": {},
   "source": [
    "| Date (YYYY-MM-DD) | Version | Changed By | Change Description      |\n",
    "| ----------------- | ------- | ---------- | ----------------------- |\n",
    "| 2021-06-09        | 1.0     | Yan Luo    | Tasks updates           |\n",
    "| 2020-11-10        | 1.0     | Nayef      | Created the initial version |\n"
   ]
  },
  {
   "cell_type": "markdown",
   "metadata": {},
   "source": [
    "Copyright © 2021 IBM Corporation. All rights reserved.\n"
   ]
  }
 ],
 "metadata": {
  "kernelspec": {
   "display_name": "Python 3 (ipykernel)",
   "language": "python",
   "name": "python3"
  },
  "language_info": {
   "codemirror_mode": {
    "name": "ipython",
    "version": 3
   },
   "file_extension": ".py",
   "mimetype": "text/x-python",
   "name": "python",
   "nbconvert_exporter": "python",
   "pygments_lexer": "ipython3",
   "version": "3.7.15"
  }
 },
 "nbformat": 4,
 "nbformat_minor": 4
}
